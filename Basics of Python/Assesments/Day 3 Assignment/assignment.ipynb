{
 "cells": [
  {
   "cell_type": "markdown",
   "id": "523661b8",
   "metadata": {},
   "source": [
    "# Problem Statements\n"
   ]
  },
  {
   "cell_type": "markdown",
   "id": "51e064e3",
   "metadata": {},
   "source": [
    "### Day 3 Assignment\n",
    "\n",
    "Create 2D array using numpy\n",
    "Multiply every element by 2\n",
    "Print the original and new arrays\n",
    "\n",
    "\n",
    "Use pandas to create df from a dictionary\n",
    "Dict should contain data of 3 products\n",
    "Cols - product_name, price and stock_quantity\n",
    "\n",
    "Finally filter all products with a stock quantity >50"
   ]
  },
  {
   "cell_type": "markdown",
   "id": "2d70a1d9",
   "metadata": {},
   "source": [
    "Importing libraries"
   ]
  },
  {
   "cell_type": "code",
   "execution_count": 1,
   "id": "0b0c2048",
   "metadata": {},
   "outputs": [],
   "source": [
    "import numpy as np\n",
    "import pandas as pd\n"
   ]
  },
  {
   "cell_type": "markdown",
   "id": "d1930f8c",
   "metadata": {},
   "source": [
    "### Task 1\n",
    "### Create 2D array using numpy. Multiply every element by 2. Print the original and new arrays"
   ]
  },
  {
   "cell_type": "code",
   "execution_count": null,
   "id": "78412a41",
   "metadata": {},
   "outputs": [
    {
     "name": "stdout",
     "output_type": "stream",
     "text": [
      "Original Array [[1 2 3]\n",
      " [4 5 6]]\n",
      "Modified Array [[ 2  4  6]\n",
      " [ 8 10 12]]\n"
     ]
    }
   ],
   "source": [
    "# Creating numpy array\n",
    "orig_arr = np.array([[1,2,3],[4,5,6]])\n",
    "# Multiplying every element by 2\n",
    "new_arr = orig_arr * 2\n",
    "# Comparing\n",
    "print('Original Array', orig_arr)\n",
    "print('Modified Array',new_arr)\n"
   ]
  },
  {
   "cell_type": "markdown",
   "id": "4e4484c5",
   "metadata": {},
   "source": [
    "### Task 2\n",
    "### Use pandas to create dataframe from a dictionary. Dict should contain data of 3 products Cols - product_name, price and stock_quantity"
   ]
  },
  {
   "cell_type": "code",
   "execution_count": null,
   "id": "d0f0fdc7",
   "metadata": {},
   "outputs": [
    {
     "name": "stdout",
     "output_type": "stream",
     "text": [
      "{'product_name': ['Apple', 'Banana', 'Mango'], 'price': [250, 30, 100], 'quantity': [10, 200, 25]}\n",
      "  product_name  price  quantity\n",
      "0        Apple    250        10\n",
      "1       Banana     30       200\n",
      "2        Mango    100        25\n"
     ]
    }
   ],
   "source": [
    "# creating dictionary of products\n",
    "dict = {'product_name':['Apple','Banana','Mango'],\n",
    "        'price':[250,30,100],\n",
    "        'quantity':[10,200,25]}\n",
    "print(dict)\n",
    "# converting to dataframe\n",
    "fruits = pd.DataFrame(dict)\n",
    "print(fruits)"
   ]
  },
  {
   "cell_type": "markdown",
   "id": "213d2c25",
   "metadata": {},
   "source": [
    "### Task 3\n",
    "### Filter products with quantity >50"
   ]
  },
  {
   "cell_type": "code",
   "execution_count": null,
   "id": "260a0223",
   "metadata": {},
   "outputs": [
    {
     "name": "stdout",
     "output_type": "stream",
     "text": [
      "  product_name  price  quantity\n",
      "1       Banana     30       200\n"
     ]
    }
   ],
   "source": [
    "# filtering products with quantity greater than 50\n",
    "print(fruits[fruits['quantity']>50])"
   ]
  }
 ],
 "metadata": {
  "kernelspec": {
   "display_name": "Python 3",
   "language": "python",
   "name": "python3"
  },
  "language_info": {
   "codemirror_mode": {
    "name": "ipython",
    "version": 3
   },
   "file_extension": ".py",
   "mimetype": "text/x-python",
   "name": "python",
   "nbconvert_exporter": "python",
   "pygments_lexer": "ipython3",
   "version": "3.13.7"
  }
 },
 "nbformat": 4,
 "nbformat_minor": 5
}
